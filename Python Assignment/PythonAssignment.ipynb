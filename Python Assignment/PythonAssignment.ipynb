{
 "cells": [
  {
   "cell_type": "markdown",
   "metadata": {
    "id": "BKCrcukdE8Bb"
   },
   "source": [
    "# Assignment: Classification\n",
    "\n",
    "Classification refers to categorizing the given data into classes. For example,\n",
    "- Given an image of hand-written character, identifying the character (multi-class classification)\n",
    "- Given an image, annotating it with all the objects present in the image (multi-label classification)\n",
    "- Classifying an email as spam or non-spam (binary classification)\n",
    "- Classifying a tumor as benign or malignant and so on\n",
    "\n",
    "In this assignment, we will be building a classifier to classify emails as spam or non-spam. We will be using the Kaggle dataset [Spam or Not Spam Dataset](https://www.kaggle.com/datasets/ozlerhakan/spam-or-not-spam-dataset?resource=download) for this task. \n",
    "\n",
    "**Note**: You cannot load any libraries other than the mentioned ones.\n",
    "\n",
    "\n"
   ]
  },
  {
   "cell_type": "markdown",
   "metadata": {
    "id": "Irp6f7_2crfu"
   },
   "source": [
    "### Data pre-processing\n",
    "The first step in every machine learning algorithm is to process the raw data in some meaningful representations. We will be using the [Bag-of-Words](https://towardsdatascience.com/a-simple-explanation-of-the-bag-of-words-model-b88fc4f4971) representation to process the text. It comprises of following steps:\n",
    "\n",
    "- Process emails line-by-line to extract all the words.\n",
    "- Replace extracted words by their stem (root) word. This is known as stemming and lematization.\n",
    "- Remove stop words like and, or, is, am, and so on.\n",
    "- Assign a unique index to each word. This forms the vocabulary.\n",
    "- Represent each email as a binary vector of length equal to the size of the vocabulary such that the $i^{th}$ element of the vector is 1 iff the $i^th$ word is present in the email.\n",
    "\n",
    "Here we provide you with the function signature along with the expected functionality. You are expected to complete them accordingly. "
   ]
  },
  {
   "cell_type": "code",
   "execution_count": 1,
   "metadata": {
    "id": "wIlTOyyPn-mN"
   },
   "outputs": [],
   "source": [
    "import numpy as np\n",
    "from nltk.stem import PorterStemmer\n",
    "from nltk.corpus import stopwords\n",
    "\n",
    "# takes an email as an argument\n",
    "# read email line-by-line and extract all the words\n",
    "# return list of extracted words\n",
    "def read_email(email):\n",
    "    words = email.split()\n",
    "    return words\n",
    "  \n",
    "# takes a list of words as an argument\n",
    "# replace each word by their stem word\n",
    "# return list of stem words\n",
    "def stemming(words):\n",
    "    word_stemmer = PorterStemmer()\n",
    "    stem_words = [word_stemmer.stem(w) for w in words]\n",
    "    return stem_words\n",
    "\n",
    "# takes a list of stem-words as an argument\n",
    "# remove stop words\n",
    "# return list of stem words after removing stop words\n",
    "def remove_stop_words(stem_words):\n",
    "    stop_words = stopwords.words('english')\n",
    "    stem_no_stop_words = [word for word in stem_words if not word in stop_words]\n",
    "    return stem_no_stop_words\n",
    "\n",
    "# takes a list of stem-words as an argument\n",
    "# add new words to the vocabulary and assign a unique index to them\n",
    "# returns new vocabulary\n",
    "def build_vocabulary(stem_no_stop_words):\n",
    "    for i in stem_no_stop_words:\n",
    "        if i not in vocab:\n",
    "            vocab.append(i);\n",
    "    return vocab\n",
    "\n",
    "# takes a list of stem-words and vocabulary as an argument\n",
    "# returns bow representation\n",
    "def get_bow(stem_words, vocab):\n",
    "    get_bow = []\n",
    "    for word in vocab:\n",
    "        if word in stem_words:\n",
    "            get_bow.append(1)\n",
    "        else:\n",
    "            get_bow.append(0)\n",
    "    return get_bow\n",
    "            \n",
    "\n",
    "# read the entire dataset\n",
    "def read_data():\n",
    "    data = np.genfromtxt(\"spam_or_not_spam.csv\", delimiter = ',',dtype = str,  encoding='utf-8')\n",
    "    data = np.delete(data, 0, axis = 0)\n",
    "    return data\n",
    "\n",
    "# convert emails to bow and maintain their labels\n",
    "# call function text_to_bow()\n",
    "\n",
    "data_x = []\n",
    "def text_to_bow(data):\n",
    "    for i in data:\n",
    "        email = i[0]\n",
    "        words = read_email(email)\n",
    "        stem_words = stemming(words)\n",
    "        stem_no_stop_words = remove_stop_words(stem_words)\n",
    "        vocab = build_vocabulary(stem_no_stop_words)\n",
    "        email_bow = get_bow(stem_words, vocab)\n",
    "        data_x.append(email_bow)\n",
    "    return data"
   ]
  },
  {
   "cell_type": "code",
   "execution_count": 2,
   "metadata": {},
   "outputs": [],
   "source": [
    "vocab = []\n",
    "data = read_data()\n",
    "dat_y = data[:,1]\n",
    "data = text_to_bow(data)"
   ]
  },
  {
   "cell_type": "code",
   "execution_count": 3,
   "metadata": {},
   "outputs": [],
   "source": [
    "k = 0\n",
    "for A in data_x:\n",
    "    i = len(A)\n",
    "    for j in range(i, len(vocab)):\n",
    "        A.append(0)\n",
    "    \n",
    "dat_x = np.array([np.array(xi) for xi in data_x])\n",
    "dat_x = np.insert(dat_x,0,0, axis = 1)"
   ]
  },
  {
   "cell_type": "markdown",
   "metadata": {
    "id": "d0cDiGt6nkPY"
   },
   "source": [
    "### Data Visualization\n",
    "Let's understand the data distribution\n",
    "- Visualize the frequency of word-occurence in all the emails(spam + non-spam)\n",
    "- Visualize the freuency of word-occurence for spam and non-spam emails separately"
   ]
  },
  {
   "cell_type": "code",
   "execution_count": 4,
   "metadata": {},
   "outputs": [
    {
     "name": "stdout",
     "output_type": "stream",
     "text": [
      "[ 830  139 2476 ...    1    1    1]\n",
      "[ 805.  137. 2042. ...    0.    0.    0.]\n",
      "[ 25.   2. 434. ...   1.   1.   1.]\n"
     ]
    }
   ],
   "source": [
    "freq = dat_x.sum(axis=0)\n",
    "freq = freq[1:]\n",
    "freq_nonspam = np.zeros(len(vocab))\n",
    "freq_spam = np.zeros(len(vocab))\n",
    "\n",
    "print(freq)\n",
    "\n",
    "i = 0\n",
    "for A in dat_x:\n",
    "    if dat_y[i] == '0':\n",
    "        freq_nonspam = np.add(freq_nonspam, A[1:]) \n",
    "    if dat_y[i] == '1':\n",
    "        freq_spam = np.add(freq_spam, A[1:])\n",
    "    i += 1\n",
    "        \n",
    "print(freq_nonspam)\n",
    "print(freq_spam)"
   ]
  },
  {
   "cell_type": "code",
   "execution_count": 5,
   "metadata": {
    "id": "4vJLcTxDLZsh"
   },
   "outputs": [],
   "source": [
    "import matplotlib.pyplot as plt\n",
    "%matplotlib inline\n",
    "\n",
    "# visuallze data distribution\n",
    "def data_vis(freq, vocab):\n",
    "    plt.figure()\n",
    "    plt.plot(vocab,freq)\n",
    "    plt.xlabel('Vocabulary')\n",
    "    plt.ylabel('Frequency')\n",
    "    ax = plt.gca()\n",
    "    ax.axes.xaxis.set_ticklabels([])\n",
    "    return\n",
    "\n"
   ]
  },
  {
   "cell_type": "code",
   "execution_count": 6,
   "metadata": {},
   "outputs": [
    {
     "data": {
      "image/png": "[encoded data removed]",
      "text/plain": [
       "<Figure size 432x288 with 1 Axes>"
      ]
     },
     "metadata": {
      "needs_background": "light"
     },
     "output_type": "display_data"
    }
   ],
   "source": [
    "#Frequency vs Vocabulary for all emails\n",
    "data_vis(freq,vocab)"
   ]
  },
  {
   "cell_type": "code",
   "execution_count": 7,
   "metadata": {},
   "outputs": [
    {
     "data": {
      "image/png": "[encoded data removed]",
      "text/plain": [
       "<Figure size 432x288 with 1 Axes>"
      ]
     },
     "metadata": {
      "needs_background": "light"
     },
     "output_type": "display_data"
    }
   ],
   "source": [
    "#Frequency vs Vocabulary for all non spam emails\n",
    "data_vis(freq_nonspam,vocab)"
   ]
  },
  {
   "cell_type": "code",
   "execution_count": 8,
   "metadata": {},
   "outputs": [
    {
     "data": {
      "image/png": "[encoded data removed]",
      "text/plain": [
       "<Figure size 432x288 with 1 Axes>"
      ]
     },
     "metadata": {
      "needs_background": "light"
     },
     "output_type": "display_data"
    }
   ],
   "source": [
    "#Frequency vs Vocabulary for all spam emails\n",
    "data_vis(freq_spam,vocab)"
   ]
  },
  {
   "cell_type": "code",
   "execution_count": 9,
   "metadata": {},
   "outputs": [],
   "source": [
    "dat_y = np.array([int(string) for string in dat_y])"
   ]
  },
  {
   "cell_type": "markdown",
   "metadata": {},
   "source": [
    "### Learn a Classifier\n",
    "Split the dataset randomly in the ratio 80:20 as the training and test dataset. Use only training dataset to learn the classifier. No test data should be used during training. Test data will only be used during evaluation.\n",
    "\n",
    "Now let us try to use ML algorithms to classify emails as spam or non-spam. You are supposed to implement [SVM](https://scikit-learn.org/stable/modules/svm.html) and [K-Nearest Neighbour](https://scikit-learn.org/stable/modules/generated/sklearn.neighbors.KNeighborsClassifier.html) algorithm available in scikit-learn using the same training dataset for both."
   ]
  },
  {
   "cell_type": "code",
   "execution_count": 10,
   "metadata": {
    "id": "IMpuaPCKHxwh"
   },
   "outputs": [],
   "source": [
    "from sklearn.neighbors import KNeighborsClassifier\n",
    "from sklearn import svm\n",
    "\n",
    "# split dataset\n",
    "def split(dat_x, dat_y):\n",
    "    a_ar, b_ar = dat_x, dat_y\n",
    "    p = np.random.permutation(len(dat_y))\n",
    "    a, b = a_ar[p].tolist(), b_ar[p].tolist()\n",
    "    size = int(0.8*len(dat_y))\n",
    "    a_train = a[:size]\n",
    "    b_train = b[:size]\n",
    "    a_test = a[size:]\n",
    "    b_test = b[size:]\n",
    "    return a_train, b_train, a_test, b_test\n",
    "\n",
    "# learn a SVM model\n",
    "# use the model to make prediction\n",
    "# return the model predictions on train and test dataset\n",
    "def svm_classifier(train_x,train_y,test_x):\n",
    "    clf = svm.SVC()\n",
    "    clf.fit(train_x, train_y)\n",
    "    predict_labels_test = clf.predict(test_x)\n",
    "    predict_labels_train = clf.predict(train_x)\n",
    "    return predict_labels_test, predict_labels_train\n",
    "\n",
    "# implement k-NN algorithm\n",
    "# use the model to make prediction\n",
    "# return the model predictions on train and test dataset\n",
    "def knn_classifier(train_x,train_y,test_x):\n",
    "    neigh = KNeighborsClassifier(n_neighbors=11)\n",
    "    neigh.fit(train_x, train_y)\n",
    "    predict_labels_test = neigh.predict(test_x)\n",
    "    predict_labels_train = neigh.predict(train_x)\n",
    "    return predict_labels_test, predict_labels_train\n"
   ]
  },
  {
   "cell_type": "code",
   "execution_count": 11,
   "metadata": {},
   "outputs": [],
   "source": [
    "train_x, train_y, test_x, test_y = split(dat_x, dat_y)\n",
    "predict_labels_svm_test, predict_labels_svm_train = svm_classifier(train_x,train_y,test_x)\n",
    "predict_labels_knn_test, predict_labels_knn_train = knn_classifier(train_x,train_y,test_x)"
   ]
  },
  {
   "cell_type": "markdown",
   "metadata": {
    "id": "SlCwYvluHqQz"
   },
   "source": [
    "### Model Evaluation\n",
    "Compare the SVM and k-NN model using metrics\n",
    "- Accuracy\n",
    "- [AUC score](https://scikit-learn.org/stable/modules/generated/sklearn.metrics.auc.html)\n"
   ]
  },
  {
   "cell_type": "code",
   "execution_count": 12,
   "metadata": {
    "id": "X3KmcTpqKbGI"
   },
   "outputs": [],
   "source": [
    "from sklearn import metrics\n",
    "\n",
    "# compute accuracy \n",
    "def compute_accuracy(true_labels, predicted_labels):\n",
    "    acc = np.sum(np.equal(true_labels, predicted_labels)) / len(true_labels)\n",
    "    return acc\n",
    "\n",
    "# compute AUC score \n",
    "def compute_auc(true_labels, predicted_labels):\n",
    "    auc = metrics.roc_auc_score(true_labels, predicted_labels)\n",
    "    return auc\n"
   ]
  },
  {
   "cell_type": "code",
   "execution_count": 13,
   "metadata": {},
   "outputs": [],
   "source": [
    "# write code to print train and test accuracy and AUC score of SVM and k-NN classifier\n",
    "acc_svm_test = compute_accuracy(test_y, predict_labels_svm_test)\n",
    "acc_knn_test = compute_accuracy(test_y, predict_labels_knn_test)\n",
    "\n",
    "auc_svm_test = compute_auc(test_y, predict_labels_svm_test)\n",
    "auc_knn_test = compute_auc(test_y, predict_labels_knn_test)"
   ]
  },
  {
   "cell_type": "code",
   "execution_count": 14,
   "metadata": {},
   "outputs": [
    {
     "name": "stdout",
     "output_type": "stream",
     "text": [
      "0.97\n",
      "0.9383333333333334\n",
      "0.9217068645640074\n",
      "0.9383333333333334\n"
     ]
    }
   ],
   "source": [
    "print(acc_svm_test)\n",
    "print(acc_knn_test)\n",
    "\n",
    "print(auc_svm_test)\n",
    "print(acc_knn_test)"
   ]
  },
  {
   "cell_type": "code",
   "execution_count": 15,
   "metadata": {},
   "outputs": [],
   "source": [
    "acc_svm_train = compute_accuracy(train_y, predict_labels_svm_train)\n",
    "acc_knn_train = compute_accuracy(train_y, predict_labels_knn_train)\n",
    "\n",
    "auc_svm_train = compute_auc(train_y, predict_labels_svm_train)\n",
    "auc_knn_train = compute_auc(train_y, predict_labels_knn_train)"
   ]
  },
  {
   "cell_type": "code",
   "execution_count": 16,
   "metadata": {},
   "outputs": [
    {
     "name": "stdout",
     "output_type": "stream",
     "text": [
      "0.995\n",
      "0.9575\n",
      "0.9846153846153847\n",
      "0.9575\n"
     ]
    }
   ],
   "source": [
    "print(acc_svm_train)\n",
    "print(acc_knn_train)\n",
    "\n",
    "print(auc_svm_train)\n",
    "print(acc_knn_train)"
   ]
  }
 ],
 "metadata": {
  "colab": {
   "collapsed_sections": [],
   "name": "python-assignment.ipynb",
   "provenance": []
  },
  "kernelspec": {
   "display_name": "Python 3",
   "language": "python",
   "name": "python3"
  },
  "language_info": {
   "codemirror_mode": {
    "name": "ipython",
    "version": 3
   },
   "file_extension": ".py",
   "mimetype": "text/x-python",
   "name": "python",
   "nbconvert_exporter": "python",
   "pygments_lexer": "ipython3",
   "version": "3.9.5"
  }
 },
 "nbformat": 4,
 "nbformat_minor": 1
}
